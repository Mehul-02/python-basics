{
 "cells": [
  {
   "cell_type": "code",
   "execution_count": 5,
   "id": "2e9ebdc8",
   "metadata": {},
   "outputs": [
    {
     "name": "stdout",
     "output_type": "stream",
     "text": [
      "enter height in meters:6.4\n",
      "enter weight in kgs:34\n",
      "BMI calculated is: 0.8300781249999999\n",
      "You are under weight\n"
     ]
    }
   ],
   "source": [
    "#BMI calculation\n",
    "a=eval(input('enter height in meters:'))\n",
    "b=eval(input('enter weight in kgs:'))\n",
    "\n",
    "BMI=b/(a*a)\n",
    "\n",
    "print('BMI calculated is:', BMI)\n",
    "\n",
    "if(BMI>0):\n",
    "    if(BMI<18.5):\n",
    "        print('You are under weight')\n",
    "elif(BMI>=18.5):\n",
    "    print('You are under weight')\n",
    "elif(BMI>=25):\n",
    "    print('You are healthy')\n",
    "elif(BMI>=29.9):\n",
    "    print('You are overweight')\n",
    "elif(BMI>=30):\n",
    "    print('you are obese')\n",
    "elif():\n",
    "    print('you are overweight')\n",
    "else:\n",
    "    print('print valid details')"
   ]
  },
  {
   "cell_type": "code",
   "execution_count": 10,
   "id": "be46426b",
   "metadata": {},
   "outputs": [
    {
     "name": "stdout",
     "output_type": "stream",
     "text": [
      "enter height in meters:1.80\n",
      "enter weight in kgs:80\n",
      "welcome to BMI calculation\n",
      "BMI calculated is: 24.691358024691358\n"
     ]
    }
   ],
   "source": [
    "#BMI calulation using funtion\n",
    "def BMI(height,weight):\n",
    "    print(weight/(height*height))\n",
    "a=eval(input('enter height in meters:'))\n",
    "b=eval(input('enter weight in kgs:'))\n",
    "print('welcome to BMI calculation')\n",
    "\n",
    "BMI=b/(a*a)\n",
    "\n",
    "print('BMI calculated is:', BMI)\n",
    "\n",
    "if(BMI>0):\n",
    "    if(BMI<18.5):\n",
    "        print('You are under weight')\n",
    "elif(BMI>=18.5):\n",
    "    print('You are under weight')\n",
    "elif(BMI>=25):\n",
    "    print('You are healthy')\n",
    "elif(BMI>=29.9):\n",
    "    print('You are overweight')\n",
    "elif(BMI>=30):\n",
    "    print('you are obese')\n",
    "elif():\n",
    "    print('you are overweight')\n",
    "else:\n",
    "    print('print valid details')"
   ]
  },
  {
   "cell_type": "code",
   "execution_count": 32,
   "id": "e3c654f9",
   "metadata": {},
   "outputs": [
    {
     "name": "stdout",
     "output_type": "stream",
     "text": [
      "Calculator\n",
      "1.Add\n",
      "2.Substract\n",
      "3.Multiply\n",
      "4.Divide\n",
      "enter choice(1/2/3/4):4\n",
      "enter your first number:100\n",
      "enter your second number:5\n",
      "100 / 5 = 20.0\n"
     ]
    }
   ],
   "source": [
    "#normal calulator using python\n",
    "print(\"Calculator\")\n",
    "print(\"1.Add\")\n",
    "print(\"2.Substract\")\n",
    "print(\"3.Multiply\")\n",
    "print(\"4.Divide\")\n",
    "choice=input('enter choice(1/2/3/4):')\n",
    "if choice in('1','2','3','4'):\n",
    "        a=eval(input('enter your first number:'))\n",
    "        b=eval(input('enter your second number:'))\n",
    "if choice== '1':\n",
    "    print(a,'+',b,'=', a+b)\n",
    "elif choice=='2':\n",
    "    print(a,'-',b,'=',a-b)\n",
    "elif choice=='3':\n",
    "    print(a,'*',b,'=',a*b)\n",
    "elif choice=='4':\n",
    "    print(a,'/',b,'=', a/b)\n",
    "    \n",
    "else:\n",
    "    print('vaild input')\n"
   ]
  },
  {
   "cell_type": "code",
   "execution_count": 42,
   "id": "ab7819d7",
   "metadata": {},
   "outputs": [
    {
     "name": "stdout",
     "output_type": "stream",
     "text": [
      "enter choice(1/2/3/4):4\n",
      "enter your first number:20\n",
      "enter your second number:2\n",
      "10.0\n",
      "20 / 2 = None\n"
     ]
    }
   ],
   "source": [
    "# simple calculator using function\n",
    "def add(a,b):\n",
    "    print(a+b)\n",
    "def subtract(a,b):\n",
    "    print(a-b)\n",
    "def multiply(a,b):\n",
    "    print(a*b)\n",
    "def divide(a,b):\n",
    "    print(a/b)\n",
    "    \n",
    "choice=input('enter choice(1/2/3/4):')\n",
    "if choice in('1','2','3','4'):\n",
    "        a=eval(input('enter your first number:'))\n",
    "        b=eval(input('enter your second number:'))\n",
    "if choice== '1':\n",
    "    print(a,'+',b,'=', add(a,b))\n",
    "elif choice=='2':\n",
    "    print(a,'-',b,'=',subtract(a,b))\n",
    "elif choice=='3':\n",
    "    print(a,'*',b,'=',multiply(a,b))\n",
    "elif choice=='4':\n",
    "    print(a,'/',b,'=',divide(a,b))\n",
    "else:\n",
    "    print('enter vaild information')\n"
   ]
  },
  {
   "cell_type": "code",
   "execution_count": 57,
   "id": "57526e4f",
   "metadata": {},
   "outputs": [
    {
     "name": "stdout",
     "output_type": "stream",
     "text": [
      "Enter the min : 1\n",
      "Enter the max : 100\n",
      "2\n",
      "3\n",
      "5\n",
      "7\n",
      "11\n",
      "13\n",
      "17\n",
      "19\n",
      "23\n",
      "29\n",
      "31\n",
      "37\n",
      "41\n",
      "43\n",
      "47\n",
      "53\n",
      "59\n",
      "61\n",
      "67\n",
      "71\n",
      "73\n",
      "79\n",
      "83\n",
      "89\n",
      "97\n"
     ]
    }
   ],
   "source": [
    "#prime number program\n",
    "min = int(input(\"Enter the min : \"))\n",
    "max = int(input(\"Enter the max : \"))\n",
    "for n in range(min,max + 1):\n",
    "   if n > 1:\n",
    "       for i in range(2,n):\n",
    "           if (n % i) == 0:\n",
    "               break\n",
    "       else:\n",
    "           print(n)"
   ]
  },
  {
   "cell_type": "code",
   "execution_count": 58,
   "id": "62893173",
   "metadata": {},
   "outputs": [
    {
     "name": "stdout",
     "output_type": "stream",
     "text": [
      "0\n",
      "1\n",
      "1\n",
      "2\n",
      "3\n",
      "5\n",
      "8\n",
      "13\n",
      "21\n",
      "34\n"
     ]
    }
   ],
   "source": [
    "#python program of fibonacci series\n",
    "def fib(n):\n",
    "    a=0\n",
    "    b=1\n",
    "    if n==1:\n",
    "        print(a)\n",
    "    else:\n",
    "        print(a)\n",
    "        print(b)\n",
    "        for i in range(2,n):\n",
    "            c=a+b\n",
    "            a=b\n",
    "            b=c\n",
    "            print(c)\n",
    "fib(10)\n",
    "        \n"
   ]
  },
  {
   "cell_type": "code",
   "execution_count": 59,
   "id": "da30cf41",
   "metadata": {},
   "outputs": [
    {
     "name": "stdout",
     "output_type": "stream",
     "text": [
      "Enter number of rows: 6\n",
      "          * \n",
      "        * * * \n",
      "      * * * * * \n",
      "    * * * * * * * \n",
      "  * * * * * * * * * \n",
      "* * * * * * * * * * * \n"
     ]
    }
   ],
   "source": [
    "#  python program of full pyramid\n",
    "rows = int(input(\"Enter number of rows: \"))\n",
    "\n",
    "k = 0\n",
    "\n",
    "for i in range(1, rows+1):\n",
    "    for space in range(1, (rows-i)+1):\n",
    "        print(end=\"  \")\n",
    "   \n",
    "    while k!=(2*i-1):\n",
    "        print(\"* \", end=\"\")\n",
    "        k += 1\n",
    "   \n",
    "    k = 0\n",
    "    print()"
   ]
  }
 ],
 "metadata": {
  "kernelspec": {
   "display_name": "Python 3 (ipykernel)",
   "language": "python",
   "name": "python3"
  },
  "language_info": {
   "codemirror_mode": {
    "name": "ipython",
    "version": 3
   },
   "file_extension": ".py",
   "mimetype": "text/x-python",
   "name": "python",
   "nbconvert_exporter": "python",
   "pygments_lexer": "ipython3",
   "version": "3.9.12"
  }
 },
 "nbformat": 4,
 "nbformat_minor": 5
}
